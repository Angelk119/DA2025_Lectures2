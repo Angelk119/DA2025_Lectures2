{
 "cells": [
  {
   "cell_type": "markdown",
   "metadata": {},
   "source": [
    "## 🛠️ Mod5 Data Challenge 1: ETL-in-the-Wild — Cleaning Civic Data for Product Insights\n",
    "\n",
    "### 🎯 Purpose\n",
    "\n",
    "Practice applying the \"Transform\" step of an ETL pipeline using a real-world dataset—NYC 311 Service Requests. You’ll clean, standardize, and engineer features to prep the data for downstream analysis and business reporting.\n",
    "\n",
    "### 📚 KSBs\n",
    "\n",
    "K14 – Strategic feature engineering to improve analysis outcomes\n",
    "\n",
    "S5 – Data transformation techniques in Python\n",
    "\n",
    "S8 – Uses Pandas for EDA and data manipulation\n",
    "\n",
    "B4 – Exercises critical judgment about data quality and reliability\n",
    "\n",
    "B6 – Pursues deeper insights beyond surface-level observations\n",
    "\n",
    "### Data\n",
    "Use the **nyc311.csv** file located in your Github's `data` folder within Mod5/DataChallenges.  This is a sample of the originial file looking at just one week of data since the dataset is HUGE.  Read more about the columns [HERE](https://data.cityofnewyork.us/Social-Services/311-Service-Requests-from-2010-to-Present/erm2-nwe9/about_data).   "
   ]
  },
  {
   "cell_type": "markdown",
   "metadata": {},
   "source": [
    "### 👩‍🏫 Instructor-Led Demo (15 minutes)"
   ]
  },
  {
   "cell_type": "markdown",
   "metadata": {},
   "source": [
    "#### Step 1:  Load + Preview \n",
    "* Read in data\n",
    "\n",
    "* Show .head(), .info() to examine structure and datatypes"
   ]
  },
  {
   "cell_type": "code",
   "execution_count": 35,
   "metadata": {},
   "outputs": [],
   "source": [
    "import pandas as pd\n",
    "\n"
   ]
  },
  {
   "cell_type": "code",
   "execution_count": 36,
   "metadata": {},
   "outputs": [],
   "source": [
    "df = pd.read_csv('/Users/gabriel/Desktop/marcy/DA2025_Lectures2/Mod5/DataChallenges/data/nyc311.csv')"
   ]
  },
  {
   "cell_type": "markdown",
   "metadata": {},
   "source": [
    "#### Step 2:  Clean up Categorical Variable \n",
    "\n",
    "* Normalize Borough & Complaint Type (e.g., strip whitespace, title-case or upper-case values)\n",
    "\n",
    "* Show .value_counts() before and after cleaning"
   ]
  },
  {
   "cell_type": "code",
   "execution_count": 37,
   "metadata": {},
   "outputs": [
    {
     "data": {
      "text/plain": [
       "Complaint Type\n",
       "Illegal Parking            10654\n",
       "Noise - Residential         6603\n",
       "Noise - Street/Sidewalk     4532\n",
       "Blocked Driveway            3002\n",
       "Unsanitary Condition        1539\n",
       "Noise - Commercial          1411\n",
       "Dirty Condition             1176\n",
       "Abandoned Vehicle           1050\n",
       "Street Condition            1032\n",
       "Noise                       1023\n",
       "Name: count, dtype: int64"
      ]
     },
     "metadata": {},
     "output_type": "display_data"
    },
    {
     "data": {
      "text/plain": [
       "Borough\n",
       "Brooklyn         17102\n",
       "Queens           14668\n",
       "Manhattan        11729\n",
       "Bronx            10041\n",
       "Staten Island     2226\n",
       "Unspecified         49\n",
       "Name: count, dtype: int64"
      ]
     },
     "metadata": {},
     "output_type": "display_data"
    }
   ],
   "source": [
    "# Strip whitespace and standardize case\n",
    "for col in [\"Complaint Type\", \"Borough\"]:\n",
    "    if col in df.columns:\n",
    "        df[col] = df[col].astype(str).str.strip()\n",
    "\n",
    "# pick a style (title-case often reads nicely)\n",
    "df[\"Complaint Type\"] = df[\"Complaint Type\"].str.title()\n",
    "df[\"Borough\"] = df[\"Borough\"].str.title()\n",
    "\n",
    "# quick sanity checks\n",
    "display(df[\"Complaint Type\"].value_counts().head(10))\n",
    "display(df[\"Borough\"].value_counts())"
   ]
  },
  {
   "cell_type": "markdown",
   "metadata": {},
   "source": [
    "#### Step 3:  Feature Engineering\n",
    "\n",
    "* Convert Created Date to datetime\n",
    "\n",
    "* Create a new feature: is_weekend based on weekday"
   ]
  },
  {
   "cell_type": "code",
   "execution_count": 38,
   "metadata": {},
   "outputs": [
    {
     "data": {
      "text/plain": [
       "0        False\n",
       "1        False\n",
       "2        False\n",
       "3        False\n",
       "4        False\n",
       "         ...  \n",
       "55810    False\n",
       "55811    False\n",
       "55812    False\n",
       "55813    False\n",
       "55814    False\n",
       "Name: Created Date, Length: 55815, dtype: bool"
      ]
     },
     "execution_count": 38,
     "metadata": {},
     "output_type": "execute_result"
    }
   ],
   "source": [
    "df[\"Created Date\"] = pd.to_datetime(df[\"Created Date\"])\n",
    "\n",
    "# is_weekend flag\n",
    "df[\"Created Date\"].dt.day_of_week > 5"
   ]
  },
  {
   "cell_type": "markdown",
   "metadata": {},
   "source": [
    "### 👩‍💻 Student-Led Section (30 minutes)"
   ]
  },
  {
   "cell_type": "markdown",
   "metadata": {},
   "source": [
    "#### Task1:  Clean & Filter\n",
    "\n",
    "* Drop rows with missing Created Date or Closed Date\n",
    "\n",
    "* Drop duplicate rows\n",
    "\n",
    "* Filter data to only include one borough (e.g., Brooklyn)"
   ]
  },
  {
   "cell_type": "code",
   "execution_count": 46,
   "metadata": {},
   "outputs": [
    {
     "data": {
      "text/plain": [
       "(8558, 41)"
      ]
     },
     "execution_count": 46,
     "metadata": {},
     "output_type": "execute_result"
    }
   ],
   "source": [
    "# 1a) Drop rows with missing Created/Closed Date\n",
    "df = df.dropna(subset=['Created Date', 'Closed Date'])\n",
    "\n",
    "# 1b) Drop duplicates\n",
    "df = df.drop_duplicates()\n",
    "\n",
    "# 1c) Filter to a single borough (STUDENT CHOICE)\n",
    "borough_name = \"Manhattan\"  # e.g., \"Brooklyn\"\n",
    "df_b = df[df[\"Borough\"] == borough_name].copy()\n",
    "df_b.shape"
   ]
  },
  {
   "cell_type": "markdown",
   "metadata": {},
   "source": [
    "#### Task2:  Time Transformations \n",
    "\n",
    "* Create a new column `response_time_hrs` = difference between Closed Date and Created Date (in hours)\n",
    "\n",
    "* Ensure datetime types are properly parsed and timezone-aware (localize to America/New_York → convert to UTC)"
   ]
  },
  {
   "cell_type": "code",
   "execution_count": 47,
   "metadata": {},
   "outputs": [],
   "source": [
    "# RUN THIS CELL WITHOUT CHANGES!!!! \n",
    "\n",
    "LOCAL_TZ = \"America/New_York\"\n",
    "\n",
    "def to_utc(series, local_tz=LOCAL_TZ):\n",
    "    # 1) parse\n",
    "    s = pd.to_datetime(series, errors=\"coerce\")\n",
    "\n",
    "    # 2) if naive -> localize; if tz-aware -> skip (KEEP NONE in this if statement)\n",
    "    if s.dt.tz is None:\n",
    "        s = s.dt.tz_localize(local_tz, nonexistent=\"shift_forward\", ambiguous=\"NaT\")\n",
    "\n",
    "    # 3) convert whatever tz it has to UTC\n",
    "    return s.dt.tz_convert(\"UTC\")"
   ]
  },
  {
   "cell_type": "code",
   "execution_count": 48,
   "metadata": {},
   "outputs": [
    {
     "data": {
      "text/html": [
       "<div>\n",
       "<style scoped>\n",
       "    .dataframe tbody tr th:only-of-type {\n",
       "        vertical-align: middle;\n",
       "    }\n",
       "\n",
       "    .dataframe tbody tr th {\n",
       "        vertical-align: top;\n",
       "    }\n",
       "\n",
       "    .dataframe thead th {\n",
       "        text-align: right;\n",
       "    }\n",
       "</style>\n",
       "<table border=\"1\" class=\"dataframe\">\n",
       "  <thead>\n",
       "    <tr style=\"text-align: right;\">\n",
       "      <th></th>\n",
       "      <th>Unique Key</th>\n",
       "      <th>Created Date</th>\n",
       "      <th>Closed Date</th>\n",
       "      <th>Agency</th>\n",
       "      <th>Agency Name</th>\n",
       "      <th>Complaint Type</th>\n",
       "      <th>Descriptor</th>\n",
       "      <th>Location Type</th>\n",
       "      <th>Incident Zip</th>\n",
       "      <th>Incident Address</th>\n",
       "      <th>...</th>\n",
       "      <th>Taxi Company Borough</th>\n",
       "      <th>Taxi Pick Up Location</th>\n",
       "      <th>Bridge Highway Name</th>\n",
       "      <th>Bridge Highway Direction</th>\n",
       "      <th>Road Ramp</th>\n",
       "      <th>Bridge Highway Segment</th>\n",
       "      <th>Latitude</th>\n",
       "      <th>Longitude</th>\n",
       "      <th>Location</th>\n",
       "      <th>response_time_hrs</th>\n",
       "    </tr>\n",
       "  </thead>\n",
       "  <tbody>\n",
       "    <tr>\n",
       "      <th>43</th>\n",
       "      <td>66175356</td>\n",
       "      <td>2025-09-17 05:29:57+00:00</td>\n",
       "      <td>2025-09-17 05:46:21+00:00</td>\n",
       "      <td>NYPD</td>\n",
       "      <td>New York City Police Department</td>\n",
       "      <td>Noise - Residential</td>\n",
       "      <td>Loud Music/Party</td>\n",
       "      <td>Residential Building/House</td>\n",
       "      <td>10009.0</td>\n",
       "      <td>103 AVENUE B</td>\n",
       "      <td>...</td>\n",
       "      <td>NaN</td>\n",
       "      <td>NaN</td>\n",
       "      <td>NaN</td>\n",
       "      <td>NaN</td>\n",
       "      <td>NaN</td>\n",
       "      <td>NaN</td>\n",
       "      <td>40.724829</td>\n",
       "      <td>-73.981377</td>\n",
       "      <td>(40.7248294637277, -73.9813765585239)</td>\n",
       "      <td>0.273333</td>\n",
       "    </tr>\n",
       "    <tr>\n",
       "      <th>51</th>\n",
       "      <td>66174227</td>\n",
       "      <td>2025-09-17 05:25:28+00:00</td>\n",
       "      <td>2025-09-17 05:28:53+00:00</td>\n",
       "      <td>NYPD</td>\n",
       "      <td>New York City Police Department</td>\n",
       "      <td>Noise - Residential</td>\n",
       "      <td>Banging/Pounding</td>\n",
       "      <td>Residential Building/House</td>\n",
       "      <td>10040.0</td>\n",
       "      <td>27 SICKLES STREET</td>\n",
       "      <td>...</td>\n",
       "      <td>NaN</td>\n",
       "      <td>NaN</td>\n",
       "      <td>NaN</td>\n",
       "      <td>NaN</td>\n",
       "      <td>NaN</td>\n",
       "      <td>NaN</td>\n",
       "      <td>40.861252</td>\n",
       "      <td>-73.927707</td>\n",
       "      <td>(40.86125155997211, -73.92770691106014)</td>\n",
       "      <td>0.056944</td>\n",
       "    </tr>\n",
       "    <tr>\n",
       "      <th>57</th>\n",
       "      <td>66173074</td>\n",
       "      <td>2025-09-17 05:22:01+00:00</td>\n",
       "      <td>2025-09-17 05:48:12+00:00</td>\n",
       "      <td>NYPD</td>\n",
       "      <td>New York City Police Department</td>\n",
       "      <td>Noise - Residential</td>\n",
       "      <td>Loud Talking</td>\n",
       "      <td>Residential Building/House</td>\n",
       "      <td>10016.0</td>\n",
       "      <td>135 EAST   27 STREET</td>\n",
       "      <td>...</td>\n",
       "      <td>NaN</td>\n",
       "      <td>NaN</td>\n",
       "      <td>NaN</td>\n",
       "      <td>NaN</td>\n",
       "      <td>NaN</td>\n",
       "      <td>NaN</td>\n",
       "      <td>40.741957</td>\n",
       "      <td>-73.982725</td>\n",
       "      <td>(40.74195693982591, -73.98272504218514)</td>\n",
       "      <td>0.436389</td>\n",
       "    </tr>\n",
       "    <tr>\n",
       "      <th>71</th>\n",
       "      <td>66175297</td>\n",
       "      <td>2025-09-17 05:13:20+00:00</td>\n",
       "      <td>2025-09-17 05:25:02+00:00</td>\n",
       "      <td>NYPD</td>\n",
       "      <td>New York City Police Department</td>\n",
       "      <td>Noise - Commercial</td>\n",
       "      <td>Loud Music/Party</td>\n",
       "      <td>Store/Commercial</td>\n",
       "      <td>10002.0</td>\n",
       "      <td>92 LUDLOW STREET</td>\n",
       "      <td>...</td>\n",
       "      <td>NaN</td>\n",
       "      <td>NaN</td>\n",
       "      <td>NaN</td>\n",
       "      <td>NaN</td>\n",
       "      <td>NaN</td>\n",
       "      <td>NaN</td>\n",
       "      <td>40.718394</td>\n",
       "      <td>-73.989207</td>\n",
       "      <td>(40.718394005171284, -73.98920651756731)</td>\n",
       "      <td>0.195000</td>\n",
       "    </tr>\n",
       "    <tr>\n",
       "      <th>94</th>\n",
       "      <td>66170734</td>\n",
       "      <td>2025-09-17 04:59:59+00:00</td>\n",
       "      <td>2025-09-17 05:22:42+00:00</td>\n",
       "      <td>NYPD</td>\n",
       "      <td>New York City Police Department</td>\n",
       "      <td>Noise - Commercial</td>\n",
       "      <td>Loud Music/Party</td>\n",
       "      <td>Store/Commercial</td>\n",
       "      <td>10002.0</td>\n",
       "      <td>22 ORCHARD STREET</td>\n",
       "      <td>...</td>\n",
       "      <td>NaN</td>\n",
       "      <td>NaN</td>\n",
       "      <td>NaN</td>\n",
       "      <td>NaN</td>\n",
       "      <td>NaN</td>\n",
       "      <td>NaN</td>\n",
       "      <td>40.715430</td>\n",
       "      <td>-73.991606</td>\n",
       "      <td>(40.71542986402135, -73.9916058433748)</td>\n",
       "      <td>0.378611</td>\n",
       "    </tr>\n",
       "  </tbody>\n",
       "</table>\n",
       "<p>5 rows × 42 columns</p>\n",
       "</div>"
      ],
      "text/plain": [
       "    Unique Key              Created Date               Closed Date Agency  \\\n",
       "43    66175356 2025-09-17 05:29:57+00:00 2025-09-17 05:46:21+00:00   NYPD   \n",
       "51    66174227 2025-09-17 05:25:28+00:00 2025-09-17 05:28:53+00:00   NYPD   \n",
       "57    66173074 2025-09-17 05:22:01+00:00 2025-09-17 05:48:12+00:00   NYPD   \n",
       "71    66175297 2025-09-17 05:13:20+00:00 2025-09-17 05:25:02+00:00   NYPD   \n",
       "94    66170734 2025-09-17 04:59:59+00:00 2025-09-17 05:22:42+00:00   NYPD   \n",
       "\n",
       "                        Agency Name       Complaint Type        Descriptor  \\\n",
       "43  New York City Police Department  Noise - Residential  Loud Music/Party   \n",
       "51  New York City Police Department  Noise - Residential  Banging/Pounding   \n",
       "57  New York City Police Department  Noise - Residential      Loud Talking   \n",
       "71  New York City Police Department   Noise - Commercial  Loud Music/Party   \n",
       "94  New York City Police Department   Noise - Commercial  Loud Music/Party   \n",
       "\n",
       "                 Location Type  Incident Zip      Incident Address  ...  \\\n",
       "43  Residential Building/House       10009.0          103 AVENUE B  ...   \n",
       "51  Residential Building/House       10040.0     27 SICKLES STREET  ...   \n",
       "57  Residential Building/House       10016.0  135 EAST   27 STREET  ...   \n",
       "71            Store/Commercial       10002.0      92 LUDLOW STREET  ...   \n",
       "94            Store/Commercial       10002.0     22 ORCHARD STREET  ...   \n",
       "\n",
       "   Taxi Company Borough Taxi Pick Up Location Bridge Highway Name  \\\n",
       "43                  NaN                   NaN                 NaN   \n",
       "51                  NaN                   NaN                 NaN   \n",
       "57                  NaN                   NaN                 NaN   \n",
       "71                  NaN                   NaN                 NaN   \n",
       "94                  NaN                   NaN                 NaN   \n",
       "\n",
       "   Bridge Highway Direction Road Ramp Bridge Highway Segment   Latitude  \\\n",
       "43                      NaN       NaN                    NaN  40.724829   \n",
       "51                      NaN       NaN                    NaN  40.861252   \n",
       "57                      NaN       NaN                    NaN  40.741957   \n",
       "71                      NaN       NaN                    NaN  40.718394   \n",
       "94                      NaN       NaN                    NaN  40.715430   \n",
       "\n",
       "    Longitude                                  Location response_time_hrs  \n",
       "43 -73.981377     (40.7248294637277, -73.9813765585239)          0.273333  \n",
       "51 -73.927707   (40.86125155997211, -73.92770691106014)          0.056944  \n",
       "57 -73.982725   (40.74195693982591, -73.98272504218514)          0.436389  \n",
       "71 -73.989207  (40.718394005171284, -73.98920651756731)          0.195000  \n",
       "94 -73.991606    (40.71542986402135, -73.9916058433748)          0.378611  \n",
       "\n",
       "[5 rows x 42 columns]"
      ]
     },
     "execution_count": 48,
     "metadata": {},
     "output_type": "execute_result"
    }
   ],
   "source": [
    "# Convert both columns to utc\n",
    "df_b[\"Created Date\"] = to_utc(df_b[\"Created Date\"])\n",
    "df_b[\"Closed Date\"]  = to_utc(df_b[\"Closed Date\"])\n",
    "\n",
    "# Now compute the response time\n",
    "delta = df_b[\"Closed Date\"] - df_b[\"Created Date\"]\n",
    "df_b[\"response_time_hrs\"] = delta.dt.total_seconds() / 3600\n",
    "\n",
    "# Check the data with a .head()\n",
    "df_b.head()"
   ]
  },
  {
   "cell_type": "code",
   "execution_count": 54,
   "metadata": {},
   "outputs": [
    {
     "data": {
      "text/html": [
       "<div>\n",
       "<style scoped>\n",
       "    .dataframe tbody tr th:only-of-type {\n",
       "        vertical-align: middle;\n",
       "    }\n",
       "\n",
       "    .dataframe tbody tr th {\n",
       "        vertical-align: top;\n",
       "    }\n",
       "\n",
       "    .dataframe thead th {\n",
       "        text-align: right;\n",
       "    }\n",
       "</style>\n",
       "<table border=\"1\" class=\"dataframe\">\n",
       "  <thead>\n",
       "    <tr style=\"text-align: right;\">\n",
       "      <th></th>\n",
       "      <th>Complaint Type</th>\n",
       "      <th>hour_of_day</th>\n",
       "      <th>is_high_priority</th>\n",
       "    </tr>\n",
       "  </thead>\n",
       "  <tbody>\n",
       "    <tr>\n",
       "      <th>43</th>\n",
       "      <td>Noise - Residential</td>\n",
       "      <td>1</td>\n",
       "      <td>False</td>\n",
       "    </tr>\n",
       "    <tr>\n",
       "      <th>51</th>\n",
       "      <td>Noise - Residential</td>\n",
       "      <td>1</td>\n",
       "      <td>False</td>\n",
       "    </tr>\n",
       "    <tr>\n",
       "      <th>57</th>\n",
       "      <td>Noise - Residential</td>\n",
       "      <td>1</td>\n",
       "      <td>False</td>\n",
       "    </tr>\n",
       "    <tr>\n",
       "      <th>71</th>\n",
       "      <td>Noise - Commercial</td>\n",
       "      <td>1</td>\n",
       "      <td>False</td>\n",
       "    </tr>\n",
       "    <tr>\n",
       "      <th>94</th>\n",
       "      <td>Noise - Commercial</td>\n",
       "      <td>0</td>\n",
       "      <td>False</td>\n",
       "    </tr>\n",
       "  </tbody>\n",
       "</table>\n",
       "</div>"
      ],
      "text/plain": [
       "         Complaint Type  hour_of_day  is_high_priority\n",
       "43  Noise - Residential            1             False\n",
       "51  Noise - Residential            1             False\n",
       "57  Noise - Residential            1             False\n",
       "71   Noise - Commercial            1             False\n",
       "94   Noise - Commercial            0             False"
      ]
     },
     "metadata": {},
     "output_type": "display_data"
    }
   ],
   "source": [
    "# hour_of_day from Created Date \n",
    "df_b[\"hour_of_day\"] = df['Created Date'].dt.hour\n",
    "\n",
    "# define a high-priority list (STUDENT CHOICE)\n",
    "priority_list = [\"Heat/Hot Water\", \"Electric\", \"Elevator\", \"Structural\"]  # e.g., [\"Heat/Hot Water\",\"Electric\",\"Elevator\",\"Structural\"]\n",
    "df_b[\"is_high_priority\"] = df_b[\"Complaint Type\"].isin(priority_list)\n",
    "\n",
    "display(df_b[[\"Complaint Type\",\"hour_of_day\",\"is_high_priority\"]].head(5))"
   ]
  },
  {
   "cell_type": "markdown",
   "metadata": {},
   "source": [
    "#### Task4:  Aggregates & Visuals \n",
    "\n",
    "* Average response time by Complaint Type (sorted descending)\n",
    "\n",
    "* Total number of complaints by hour_of_day (bar chart)"
   ]
  },
  {
   "cell_type": "code",
   "execution_count": 55,
   "metadata": {},
   "outputs": [
    {
     "data": {
      "text/plain": [
       "Complaint Type\n",
       "Street Sign - Damaged      104.494167\n",
       "Illegal Posting             80.186448\n",
       "Street Sign - Dangling      70.351250\n",
       "Door/Window                 67.364167\n",
       "General                     62.412111\n",
       "Consumer Complaint          61.934688\n",
       "Unsanitary Condition        61.146210\n",
       "Litter Basket Complaint     59.971343\n",
       "Water Leak                  59.721435\n",
       "Flooring/Stairs             57.292361\n",
       "Name: response_time_hrs, dtype: float64"
      ]
     },
     "metadata": {},
     "output_type": "display_data"
    }
   ],
   "source": [
    "# Average response time by complaint type (descending)\n",
    "avg_resp = (\n",
    "    df_b.groupby(\"Complaint Type\")[\"response_time_hrs\"]\n",
    "        .mean()\n",
    "        .sort_values(ascending=False)\n",
    ")\n",
    "\n",
    "display(avg_resp.head(10))"
   ]
  },
  {
   "cell_type": "code",
   "execution_count": 56,
   "metadata": {},
   "outputs": [
    {
     "data": {
      "image/png": "[encoded data removed]",
      "text/plain": [
       "<Figure size 1000x500 with 1 Axes>"
      ]
     },
     "metadata": {},
     "output_type": "display_data"
    }
   ],
   "source": [
    "import matplotlib.pyplot as plt\n",
    "\n",
    "# Count complaints by hour_of_day\n",
    "complaints_by_hour = df_b[\"hour_of_day\"].value_counts().sort_index()\n",
    "\n",
    "# Plot as bar chart\n",
    "plt.figure(figsize=(10,5))\n",
    "complaints_by_hour.plot(kind=\"bar\", color=\"skyblue\", edgecolor=\"black\")\n",
    "plt.xlabel(\"Hour of Day\")\n",
    "plt.ylabel(\"Total Complaints\")\n",
    "plt.title(\"Total Complaints by Hour of Day\")\n",
    "plt.xticks(rotation=0)\n",
    "plt.show()\n"
   ]
  },
  {
   "cell_type": "markdown",
   "metadata": {},
   "source": [
    "#### Notebook Reflection\n",
    "\n",
    "Answer the questions in a markdown cell below.  Be thorough (no need to use AWES just answer the question fully)\n",
    "\n",
    "1. Describe one transformation or feature you engineered (e.g., response_time_hrs, is_high_priority) and explain why it would be useful for a city analyst or operations manager.\n",
    "\n",
    "2. What could go wrong if you didn’t clean the datetime fields properly or skipped removing rows with missing Closed Date? How might that distort future dashboards or decisions?"
   ]
  },
  {
   "cell_type": "markdown",
   "metadata": {},
   "source": [
    "### 📣 Class Share-Out (15 minutes)\n",
    "\n",
    "Be ready to share out the following points with the class: \n",
    "\n",
    "📣 Explain:\n",
    "\n",
    "How average response_time_hrs by complaint type offers insight (e.g., “Elevator complaints take longer to resolve”)\n",
    "\n",
    "What does your chosen borough trends reveal (e.g., “Most heating complaints come in before 10am”)\n",
    "\n",
    "🛠️ Propose:\n",
    "\n",
    "One next transformation step you would include in the full data pipeline (e.g., flagging overdue requests)\n",
    "\n"
   ]
  }
 ],
 "metadata": {
  "kernelspec": {
   "display_name": "base",
   "language": "python",
   "name": "python3"
  },
  "language_info": {
   "codemirror_mode": {
    "name": "ipython",
    "version": 3
   },
   "file_extension": ".py",
   "mimetype": "text/x-python",
   "name": "python",
   "nbconvert_exporter": "python",
   "pygments_lexer": "ipython3",
   "version": "3.12.9"
  }
 },
 "nbformat": 4,
 "nbformat_minor": 2
}
